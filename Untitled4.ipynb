{
 "cells": [
  {
   "cell_type": "code",
   "execution_count": 1,
   "metadata": {},
   "outputs": [],
   "source": [
    "import json\n",
    "import math as m\n",
    "import numpy as np\n",
    "import random as r\n",
    "import cv2"
   ]
  },
  {
   "cell_type": "code",
   "execution_count": null,
   "metadata": {},
   "outputs": [],
   "source": [
    "      "
   ]
  },
  {
   "cell_type": "code",
   "execution_count": 2,
   "metadata": {},
   "outputs": [
    {
     "name": "stdout",
     "output_type": "stream",
     "text": [
      "[[0, 0.9154832954000197, 2.879890234214018, -730.502145592291], [1, 0.9998684103831252, -8.086708477494708, 2516.029501299432], [2, 0.027677178207887527, 0.23242173230504734, 68.15361906807703], [3, 0.8789260466495439, 2.597453922303556, -621.9162650868615], [4, 0.7933684030103204, -0.49845770097636255, 248.6389456182903], [5, 0.9535326253115155, 0.5802508972724897, -5.0671849953492005], [6, 0.8890987498062318, 1.485223855075221, -261.9755784362404]]\n"
     ]
    }
   ],
   "source": [
    "with open('res.json') as json_file:  \n",
    "    data = json.load(json_file)\n",
    "print(data)    "
   ]
  },
  {
   "cell_type": "code",
   "execution_count": 3,
   "metadata": {},
   "outputs": [
    {
     "name": "stdout",
     "output_type": "stream",
     "text": [
      "7\n"
     ]
    }
   ],
   "source": [
    "#s = len(data[0])\n",
    "#e = [i for i, d in enumerate(data) if len(d) is not s]\n",
    "print(len(data))\n",
    "thresh = 0.8\n",
    "v = [(m, c) for _, li, m, c in data if li > thresh]"
   ]
  },
  {
   "cell_type": "code",
   "execution_count": null,
   "metadata": {},
   "outputs": [],
   "source": []
  },
  {
   "cell_type": "code",
   "execution_count": 4,
   "metadata": {
    "scrolled": false
   },
   "outputs": [
    {
     "name": "stdout",
     "output_type": "stream",
     "text": [
      "[[    0  -731   828  1654]\n",
      " [    0  2516   828 -4180]\n",
      " [    0  -622   828  1529]\n",
      " [    0    -5   828   475]\n",
      " [    0  -262   828   968]]\n",
      "[[ 2.87989023e+00 -7.30502146e+02]\n",
      " [-8.08670848e+00  2.51602950e+03]\n",
      " [ 2.59745392e+00 -6.21916265e+02]\n",
      " [ 5.80250897e-01 -5.06718500e+00]\n",
      " [ 1.48522386e+00 -2.61975578e+02]]\n"
     ]
    }
   ],
   "source": [
    "l=len(v)\n",
    "#print(l)\n",
    "V=np.array(v)\n",
    "M=V[:,0]\n",
    "C=V[:,1]\n",
    "dist=np.full((l,l),0., dtype=np.float32)\n",
    "for i in range(l):\n",
    "    for j in range(i+1,l):\n",
    "        dist[i,j] = np.linalg.norm(V[i]-V[j])\n",
    "x_0=np.zeros(l)\n",
    "x_1=np.full((l,),828)\n",
    "y_0=C\n",
    "y_1=M*x_1+C\n",
    "XY=np.stack((x_0,y_0,x_1, y_1)).T\n",
    "XY=np.round(XY).astype(np.int)\n",
    "print(XY)\n",
    "print(np.stack((M,C)).T)\n",
    "    \n"
   ]
  },
  {
   "cell_type": "code",
   "execution_count": 5,
   "metadata": {},
   "outputs": [],
   "source": [
    "res=[]\n",
    "dis_thresh=3\n",
    "lab=0\n",
    "for i in range(l):\n",
    "    for j in range(i+1,l):\n",
    "        if(dist[i,j]<dis_thresh):\n",
    "            res.append((lab,v[i],v[j],i+1,j+1))\n",
    "        else:\n",
    "             res.append((1,v[i],v[j],i+1,j+1))                                \n",
    "            "
   ]
  },
  {
   "cell_type": "code",
   "execution_count": 6,
   "metadata": {},
   "outputs": [],
   "source": [
    "b_im='/home/bvr/data/grapheks/box_thresh/sea051-lvl1-li-bl-lg.png'\n",
    "img=cv2.imread(b_im)"
   ]
  },
  {
   "cell_type": "code",
   "execution_count": 7,
   "metadata": {},
   "outputs": [],
   "source": [
    "for x0,y0,x1,y1 in XY:\n",
    "    img=cv2.line(img,(x0,y0),(x1,y1),(255,0,0),1)\n",
    "    \n"
   ]
  },
  {
   "cell_type": "code",
   "execution_count": 8,
   "metadata": {},
   "outputs": [
    {
     "data": {
      "text/plain": [
       "True"
      ]
     },
     "execution_count": 8,
     "metadata": {},
     "output_type": "execute_result"
    }
   ],
   "source": [
    "cv2.imwrite('/home/siddharth/code/pr1/img.png',img)"
   ]
  },
  {
   "cell_type": "code",
   "execution_count": null,
   "metadata": {},
   "outputs": [],
   "source": []
  },
  {
   "cell_type": "code",
   "execution_count": null,
   "metadata": {},
   "outputs": [],
   "source": []
  }
 ],
 "metadata": {
  "kernelspec": {
   "display_name": "Python 3",
   "language": "python",
   "name": "python3"
  },
  "language_info": {
   "codemirror_mode": {
    "name": "ipython",
    "version": 3
   },
   "file_extension": ".py",
   "mimetype": "text/x-python",
   "name": "python",
   "nbconvert_exporter": "python",
   "pygments_lexer": "ipython3",
   "version": "3.6.5"
  }
 },
 "nbformat": 4,
 "nbformat_minor": 2
}
