{
 "cells": [
  {
   "cell_type": "code",
   "execution_count": 12,
   "metadata": {},
   "outputs": [],
   "source": [
    "import json\n",
    "import math as m"
   ]
  },
  {
   "cell_type": "code",
   "execution_count": 13,
   "metadata": {},
   "outputs": [],
   "source": [
    "with open('test1.txt') as json_file:  \n",
    "    data = json.load(json_file)"
   ]
  },
  {
   "cell_type": "code",
   "execution_count": 14,
   "metadata": {},
   "outputs": [],
   "source": [
    "data = [(x, y)\n",
    "        for (x, y) in data\n",
    "        if x != m.inf or y != m.inf]"
   ]
  },
  {
   "cell_type": "code",
   "execution_count": 15,
   "metadata": {},
   "outputs": [],
   "source": [
    "div=30    \n",
    "rem=len(data)%div\n",
    "n=len(data)-rem\n",
    "lab=0\n",
    "f_data=[]\n",
    "flag=0"
   ]
  },
  {
   "cell_type": "code",
   "execution_count": 16,
   "metadata": {},
   "outputs": [],
   "source": [
    "def s(l,n):\n",
    "    x=0\n",
    "    xy=0\n",
    "    y=0\n",
    "    x2=0\n",
    "    for i in range(n):\n",
    "            xy+=l[i][0] * l[i][1]\n",
    "            x+=l[i][0]\n",
    "            y+=l[i][1]\n",
    "            x2+=l[i][0] ** 2\n",
    "    return x,y,xy,x2"
   ]
  },
  {
   "cell_type": "code",
   "execution_count": 17,
   "metadata": {},
   "outputs": [],
   "source": [
    "def linearity(l,n):\n",
    "    dis=0\n",
    "    for i in range(n-1):\n",
    "        dis+=m.sqrt((l[i][0]-l[i+1][0]) ** 2 + (l[i][1]-l[i+1][1]) ** 2)\n",
    "    lin=(m.sqrt((l[0][0]-l[n-1][0]) ** 2 + (l[0][1]-l[n-1][1]) ** 2 ))/dis\n",
    "    return lin"
   ]
  },
  {
   "cell_type": "code",
   "execution_count": 18,
   "metadata": {},
   "outputs": [],
   "source": [
    "def slope(l,n):\n",
    "    x,y,xy,x2=s(l,n)\n",
    "    m=(n * xy - (x * y))/(n*x2 - x ** 2)\n",
    "    return m"
   ]
  },
  {
   "cell_type": "code",
   "execution_count": 19,
   "metadata": {},
   "outputs": [],
   "source": [
    "def intercept(l,n):\n",
    "    x,y,xy,x2=s(l,n)\n",
    "    c=(x2 * y - (x * xy))/(n*x2 - (x ** 2))\n",
    "    return c"
   ]
  },
  {
   "cell_type": "code",
   "execution_count": 20,
   "metadata": {},
   "outputs": [],
   "source": [
    "for i in range(0,n,15):\n",
    "    \n",
    "    if(flag==1):\n",
    "        \n",
    "        break\n",
    "    l=[]\n",
    "    for j in range(i,i+div):\n",
    "        \n",
    "        l.append(data[j])\n",
    "        if(i+div == n):\n",
    "            \n",
    "            flag=1\n",
    "    li=[]    \n",
    "    li.append(lab)    \n",
    "    li.append(linearity(l,div))\n",
    "    li.append(slope(l,div))\n",
    "    li.append(intercept(l,div))\n",
    "    lab+=1\n",
    "    f_data.append(li)\n",
    "    "
   ]
  },
  {
   "cell_type": "code",
   "execution_count": 21,
   "metadata": {},
   "outputs": [],
   "source": [
    "l=[]            \n",
    "for i in range(n,len(data),1):\n",
    "    l.append(data[i])\n",
    "for i in range(0,div-rem):\n",
    "    l.append(data[i])\n",
    "        \n",
    "li=[]\n",
    "#print('length=' + str(len(l)))\n",
    "li.append(lab)\n",
    "li.append(linearity(l,div))\n",
    "li.append(slope(l,div))\n",
    "li.append(intercept(l,div))\n",
    "f_data.append(li)\n",
    "\n",
    "theta = [m.atan(slope) / m.pi * 180 for _, _, slope, __ in f_data]"
   ]
  },
  {
   "cell_type": "code",
   "execution_count": 22,
   "metadata": {},
   "outputs": [],
   "source": [
    "with open('res.json','w') as json_file:\n",
    "    json.dump(f_data,json_file)  "
   ]
  },
  {
   "cell_type": "code",
   "execution_count": null,
   "metadata": {},
   "outputs": [],
   "source": []
  }
 ],
 "metadata": {
  "kernelspec": {
   "display_name": "Python 3",
   "language": "python",
   "name": "python3"
  },
  "language_info": {
   "codemirror_mode": {
    "name": "ipython",
    "version": 3
   },
   "file_extension": ".py",
   "mimetype": "text/x-python",
   "name": "python",
   "nbconvert_exporter": "python",
   "pygments_lexer": "ipython3",
   "version": "3.6.5"
  }
 },
 "nbformat": 4,
 "nbformat_minor": 2
}
