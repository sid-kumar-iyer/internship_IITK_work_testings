{
 "cells": [
  {
   "cell_type": "code",
   "execution_count": 63,
   "metadata": {},
   "outputs": [],
   "source": [
    "import os\n",
    "import random\n",
    "import matplotlib.pyplot as plt\n",
    "import matplotlib.image as mpimg\n",
    "import numpy as np\n",
    "import cv2\n",
    "import math as m\n",
    "import random as r\n",
    "import json"
   ]
  },
  {
   "cell_type": "code",
   "execution_count": 64,
   "metadata": {},
   "outputs": [],
   "source": [
    "BT_DBASE = '/home/bvr/data/grapheks/box_thresh'\n",
    "IMG_DBASE = '/home/bvr/data/hw/img'"
   ]
  },
  {
   "cell_type": "code",
   "execution_count": 65,
   "metadata": {},
   "outputs": [
    {
     "data": {
      "text/plain": [
       "'/home/bvr/data/grapheks/box_thresh/bya001-lvl1-li-bl-lg.png'"
      ]
     },
     "execution_count": 65,
     "metadata": {},
     "output_type": "execute_result"
    }
   ],
   "source": [
    "bt_files = os.listdir(BT_DBASE)\n",
    "bt_files = [os.path.join(BT_DBASE, file_name) for file_name in bt_files]\n",
    "box_img = random.choice(bt_files)\n",
    "box_img"
   ]
  },
  {
   "cell_type": "code",
   "execution_count": 66,
   "metadata": {},
   "outputs": [
    {
     "data": {
      "text/plain": [
       "'/home/bvr/data/hw/img/bya001-lvl1-li-bl-lg.gif'"
      ]
     },
     "execution_count": 66,
     "metadata": {},
     "output_type": "execute_result"
    }
   ],
   "source": [
    "fnm_sans_ext = os.path.splitext(os.path.basename(box_img))[0]\n",
    "img_files = os.listdir(IMG_DBASE)\n",
    "img_files = [os.path.join(IMG_DBASE, file_name) for file_name in img_files]\n",
    "\n",
    "img_name = None\n",
    "for img_fname in img_files :\n",
    "    if fnm_sans_ext in img_fname :\n",
    "        img_name = img_fname\n",
    "        break\n",
    "img_name"
   ]
  },
  {
   "cell_type": "code",
   "execution_count": 67,
   "metadata": {},
   "outputs": [
    {
     "data": {
      "text/plain": [
       "<matplotlib.image.AxesImage at 0x7fb4da85e898>"
      ]
     },
     "execution_count": 67,
     "metadata": {},
     "output_type": "execute_result"
    },
    {
     "data": {
      "image/png": "[encoded data removed]",
      "text/plain": [
       "<Figure size 432x288 with 1 Axes>"
      ]
     },
     "metadata": {},
     "output_type": "display_data"
    }
   ],
   "source": [
    "img=mpimg.imread(box_img)\n",
    "plt.imshow(img)\n"
   ]
  },
  {
   "cell_type": "code",
   "execution_count": 68,
   "metadata": {},
   "outputs": [
    {
     "name": "stdout",
     "output_type": "stream",
     "text": [
      "(553, 828)\n"
     ]
    }
   ],
   "source": [
    "y_max,x_max= img.shape\n",
    "print(img.shape)"
   ]
  },
  {
   "cell_type": "code",
   "execution_count": 85,
   "metadata": {
    "scrolled": true
   },
   "outputs": [
    {
     "name": "stdout",
     "output_type": "stream",
     "text": [
      "247\n",
      "[[209.68328185 666.03297462]\n",
      " [209.81809245 664.8784312 ]\n",
      " [208.95134543 663.61645239]\n",
      " [209.07098712 662.46655553]\n",
      " [302.07646207 666.6005994 ]\n",
      " [303.21017427 664.94085194]\n",
      " [304.33388927 663.26774717]\n",
      " [304.44945723 661.51855495]\n",
      " [304.55403248 659.76867112]\n",
      " [304.64761089 658.01816477]]\n"
     ]
    }
   ],
   "source": [
    "angl=[]\n",
    "k=1000\n",
    "for i in range(k):\n",
    "    theta=(2 * m.pi)/k*i\n",
    "    angl.append(theta)\n",
    "for j in range(1):\n",
    "    x_rand= r.randint(1,x_max-1)\n",
    "    y_rand= r.randint(1,y_max-1)\n",
    "    th,li,di= bnd(x_rand,y_rand,img,angl)\n",
    "    p = [(y, x) for y, x in li if x is not m.inf and y is not m.inf]\n",
    "\n",
    "    print(len(p))\n",
    "    with open('test1.txt', 'w') as outfile:\n",
    "        json.dump(li, outfile)\n",
    "\n",
    "p = np.array(p)\n",
    "print(p[:10])\n",
    "    "
   ]
  },
  {
   "cell_type": "code",
   "execution_count": 90,
   "metadata": {},
   "outputs": [
    {
     "name": "stdout",
     "output_type": "stream",
     "text": [
      "1000\n",
      "(1000, 2)\n",
      "247\n",
      "[[209.68328185 666.03297462]\n",
      " [209.81809245 664.8784312 ]\n",
      " [208.95134543 663.61645239]\n",
      " [209.07098712 662.46655553]\n",
      " [302.07646207 666.6005994 ]\n",
      " [303.21017427 664.94085194]\n",
      " [304.33388927 663.26774717]\n",
      " [304.44945723 661.51855495]\n",
      " [304.55403248 659.76867112]\n",
      " [304.64761089 658.01816477]]\n"
     ]
    }
   ],
   "source": [
    "src = li\n",
    "print(len(li))\n",
    "p=np.array(src)\n",
    "print(p.shape)\n",
    "ii=np.nonzero(np.all(p!=np.inf,axis=1))\n",
    "print(len(ii[0]))\n",
    "\n",
    "p1 = p[ii]\n",
    "print(p1[:10])"
   ]
  },
  {
   "cell_type": "code",
   "execution_count": 36,
   "metadata": {},
   "outputs": [],
   "source": [
    " def bnd(x_rand,y_rand,img,angl):\n",
    "    y_max,x_max= img.shape\n",
    "    j=0\n",
    "    theta=[]\n",
    "    limit=[]\n",
    "    dist=[]\n",
    "\n",
    "    for i in angl:\n",
    "        j+=1\n",
    "        #print(j)\n",
    "        x, y, r=fnd(i,x_rand,y_rand,img)\n",
    "        l=(y, x)\n",
    "        theta.append(i)\n",
    "        limit.append(l)\n",
    "        dist.append(r)\n",
    "    return theta,limit,dist"
   ]
  },
  {
   "cell_type": "code",
   "execution_count": 37,
   "metadata": {},
   "outputs": [],
   "source": [
    "def fnd(theta,or_x,or_y,img):\n",
    "    r=1\n",
    "    y_max,x_max= img.shape\n",
    "    \n",
    "    while True:\n",
    "        p_x=or_x + r * m.cos(theta)\n",
    "        p_y=or_y + r * m.sin(theta)\n",
    "        \n",
    "        #print((p_y, p_x))\n",
    "        \n",
    "        if(p_x > x_max - 1 or p_y > y_max - 1 or p_x < 0 or p_y < 0):\n",
    "            return m.inf,m.inf,r\n",
    "       \n",
    "        v=value(p_x,p_y,img)\n",
    "        r+=1\n",
    "        if(v>.9):\n",
    "            return p_x,p_y,r\n",
    "            \n",
    "        "
   ]
  },
  {
   "cell_type": "code",
   "execution_count": 38,
   "metadata": {},
   "outputs": [],
   "source": [
    "def value(x,y,img):\n",
    "    \n",
    "    dy, dx = y - m.floor(y), x - m.floor(x)\n",
    "    y0, x0 = y, x\n",
    "    y1, x1 = y0 + m.ceil(dy), x0 + m.ceil(dx)\n",
    "    \n",
    "    p1_x,p1_y=m.floor(x0),m.floor(y0)\n",
    "    p2_x,p2_y=m.floor(x0),m.floor(y1)\n",
    "    p3_x,p3_y=m.floor(x1),m.floor(y0)\n",
    "    p4_x,p4_y=m.floor(x1),m.floor(y1)\n",
    "    \n",
    "    v_00 = img[p1_y, p1_x]\n",
    "    v_01 = img[p3_y, p3_x]\n",
    "    v_10 = img[p2_y, p2_x]\n",
    "    v_11 = img[p4_y, p4_x]\n",
    "    v = np.array([\n",
    "        v_00, v_01, v_10, v_11\n",
    "    ])\n",
    "    \n",
    "    f_00 = dy * dx\n",
    "    f_01 = dy * (1 - dx)\n",
    "    f_10 = (1 - dy) * dx\n",
    "    f_11 = (1 - dy) * (1 - dx)\n",
    "    f = np.array([\n",
    "        f_00, f_01, f_10, f_11\n",
    "    ])\n",
    "    f = 1 / (f + 1e-8)\n",
    "    f /= np.sum(f)\n",
    "    #print('test: '+str(np.dot(v, f)))\n",
    "    return np.dot(v, f)"
   ]
  },
  {
   "cell_type": "code",
   "execution_count": null,
   "metadata": {},
   "outputs": [],
   "source": []
  },
  {
   "cell_type": "code",
   "execution_count": null,
   "metadata": {},
   "outputs": [],
   "source": []
  },
  {
   "cell_type": "code",
   "execution_count": null,
   "metadata": {},
   "outputs": [],
   "source": []
  }
 ],
 "metadata": {
  "kernelspec": {
   "display_name": "Python 3",
   "language": "python",
   "name": "python3"
  },
  "language_info": {
   "codemirror_mode": {
    "name": "ipython",
    "version": 3
   },
   "file_extension": ".py",
   "mimetype": "text/x-python",
   "name": "python",
   "nbconvert_exporter": "python",
   "pygments_lexer": "ipython3",
   "version": "3.6.5"
  }
 },
 "nbformat": 4,
 "nbformat_minor": 2
}
