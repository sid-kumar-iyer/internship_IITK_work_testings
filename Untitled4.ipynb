{
 "cells": [
  {
   "cell_type": "code",
   "execution_count": 1,
   "metadata": {},
   "outputs": [],
   "source": [
    "import json\n",
    "import math as m\n",
    "import numpy as np\n",
    "import random as r\n",
    "import cv2"
   ]
  },
  {
   "cell_type": "code",
   "execution_count": 2,
   "metadata": {},
   "outputs": [
    {
     "name": "stdout",
     "output_type": "stream",
     "text": [
      "[342, 554]\n"
     ]
    }
   ],
   "source": [
    "with open('test2.txt') as json_file:  \n",
    "    data = json.load(json_file)\n",
    "origin=data[0]['origin'] \n",
    "print (origin)"
   ]
  },
  {
   "cell_type": "code",
   "execution_count": 3,
   "metadata": {},
   "outputs": [
    {
     "name": "stdout",
     "output_type": "stream",
     "text": [
      "[[0, 0.999868410383115, -32.76665671740788, 18560.30139621265], [1, 0.9998684103831355, -8.08672621045245, 4838.340055526742], [2, 0.9998684103831289, -4.53450451930166, 2863.400920532165], [3, 0.8868508563231557, 0.4011408069153601, 119.5702721339433], [4, 0.999868410383127, -2.3299815498909098, 1640.415062548077], [5, 0.999868410383126, -1.8321028091400895, 1363.2456916513436], [6, 0.9998684103831165, -1.481146423544235, 1167.915611362063]]\n"
     ]
    }
   ],
   "source": [
    "with open('res.txt') as json_file:  \n",
    "    data = json.load(json_file)\n",
    "print(data)\n",
    "\n"
   ]
  },
  {
   "cell_type": "code",
   "execution_count": 4,
   "metadata": {},
   "outputs": [
    {
     "name": "stdout",
     "output_type": "stream",
     "text": [
      "7\n"
     ]
    }
   ],
   "source": [
    "#s = len(data[0])\n",
    "#e = [i for i, d in enumerate(data) if len(d) is not s]\n",
    "print(len(data))\n",
    "thresh = 0.8\n",
    "v = [(m, c) for _, li, m, c in data if li > thresh]"
   ]
  },
  {
   "cell_type": "code",
   "execution_count": null,
   "metadata": {},
   "outputs": [],
   "source": []
  },
  {
   "cell_type": "code",
   "execution_count": 5,
   "metadata": {
    "scrolled": false
   },
   "outputs": [
    {
     "name": "stdout",
     "output_type": "stream",
     "text": [
      "[[    0 18560   828 -8570]\n",
      " [    0  4838   828 -1857]\n",
      " [    0  2863   828  -891]\n",
      " [    0   120   828   452]\n",
      " [    0  1640   828  -289]\n",
      " [    0  1363   828  -154]\n",
      " [    0  1168   828   -58]]\n",
      "[[-3.27666567e+01  1.85603014e+04]\n",
      " [-8.08672621e+00  4.83834006e+03]\n",
      " [-4.53450452e+00  2.86340092e+03]\n",
      " [ 4.01140807e-01  1.19570272e+02]\n",
      " [-2.32998155e+00  1.64041506e+03]\n",
      " [-1.83210281e+00  1.36324569e+03]\n",
      " [-1.48114642e+00  1.16791561e+03]]\n"
     ]
    }
   ],
   "source": [
    "l=len(v)\n",
    "#print(l)\n",
    "V=np.array(v)\n",
    "M=V[:,0]#first column\n",
    "C=V[:,1]#second column\n",
    "dist=np.full((l,l),0., dtype=np.float32)\n",
    "for i in range(l):\n",
    "    for j in range(i+1,l):\n",
    "        dist[i,j] = np.linalg.norm(V[i]-V[j])\n",
    "x_0=np.zeros(l)\n",
    "x_1=np.full((l,),828)\n",
    "y_0=C\n",
    "y_1=M*x_1+C\n",
    "XY=np.stack((x_0,y_0,x_1, y_1)).T\n",
    "XY=np.round(XY).astype(np.int)\n",
    "print(XY)\n",
    "print(np.stack((M,C)).T)\n",
    "    \n"
   ]
  },
  {
   "cell_type": "code",
   "execution_count": 6,
   "metadata": {},
   "outputs": [],
   "source": [
    "res=[]\n",
    "dis_thresh=3\n",
    "lab=0\n",
    "for i in range(l):\n",
    "    for j in range(i+1,l):\n",
    "        if(dist[i,j]<dis_thresh):\n",
    "            res.append((lab,V[i],V[j],i+1,j+1))\n",
    "        else:\n",
    "             res.append((1,v[i],V[j],i+1,j+1))                                \n",
    "            "
   ]
  },
  {
   "cell_type": "code",
   "execution_count": 7,
   "metadata": {},
   "outputs": [],
   "source": [
    "b_im='/home/bvr/data/grapheks/box_thresh/sea051-lvl1-li-bl-lg.png'\n",
    "img=cv2.imread(b_im)"
   ]
  },
  {
   "cell_type": "code",
   "execution_count": 8,
   "metadata": {},
   "outputs": [],
   "source": [
    "for x0,y0,x1,y1 in XY:\n",
    "    img=cv2.line(img,(x0,y0),(x1,y1),(255,0,0),1)\n",
    "    \n",
    "orig_pnt=cv2.circle(img,(origin[1],origin[0]), 3, (0,0,255), 3)"
   ]
  },
  {
   "cell_type": "code",
   "execution_count": 9,
   "metadata": {},
   "outputs": [
    {
     "data": {
      "text/plain": [
       "True"
      ]
     },
     "execution_count": 9,
     "metadata": {},
     "output_type": "execute_result"
    }
   ],
   "source": [
    "cv2.imwrite('/home/siddharth/code/pr1/img.png',img)"
   ]
  },
  {
   "cell_type": "code",
   "execution_count": 10,
   "metadata": {},
   "outputs": [
    {
     "data": {
      "text/plain": [
       "True"
      ]
     },
     "execution_count": 10,
     "metadata": {},
     "output_type": "execute_result"
    }
   ],
   "source": [
    "cv2.imwrite('/home/siddharth/code/pr1/img.png',orig_pnt)"
   ]
  },
  {
   "cell_type": "code",
   "execution_count": null,
   "metadata": {},
   "outputs": [],
   "source": []
  }
 ],
 "metadata": {
  "kernelspec": {
   "display_name": "Python 3",
   "language": "python",
   "name": "python3"
  },
  "language_info": {
   "codemirror_mode": {
    "name": "ipython",
    "version": 3
   },
   "file_extension": ".py",
   "mimetype": "text/x-python",
   "name": "python",
   "nbconvert_exporter": "python",
   "pygments_lexer": "ipython3",
   "version": "3.6.5"
  }
 },
 "nbformat": 4,
 "nbformat_minor": 2
}
