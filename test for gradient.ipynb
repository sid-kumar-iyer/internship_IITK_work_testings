{
 "cells": [
  {
   "cell_type": "code",
   "execution_count": 111,
   "metadata": {},
   "outputs": [],
   "source": [
    "import numpy as np\n",
    "import yajl as json\n",
    "import random as rn\n",
    "import math as m"
   ]
  },
  {
   "cell_type": "code",
   "execution_count": 112,
   "metadata": {},
   "outputs": [],
   "source": [
    "with open('filtered.json') as json_file:  \n",
    "    data = json.load(json_file)\n",
    "points=data[0]['p']    "
   ]
  },
  {
   "cell_type": "code",
   "execution_count": 113,
   "metadata": {},
   "outputs": [
    {
     "name": "stdout",
     "output_type": "stream",
     "text": [
      "50\n"
     ]
    }
   ],
   "source": [
    "points=np.array(points[:50])\n",
    "print(len(points))\n",
    "#print(points)"
   ]
  },
  {
   "cell_type": "code",
   "execution_count": 114,
   "metadata": {},
   "outputs": [],
   "source": [
    "def des_theta(pnt,theta,r):\n",
    "    d_theta=0\n",
    "    for i in range (len(pnt)):\n",
    "        d_theta+= (-pnt[i,1] * m.sin(theta)) + (pnt[i,0] * m.cos(theta)) * ((-pnt[i,1] * m.cos(theta)) + pnt[i,0] * m.sin(theta) - r)\n",
    "    return d_theta        "
   ]
  },
  {
   "cell_type": "code",
   "execution_count": 115,
   "metadata": {},
   "outputs": [],
   "source": [
    "def des_r(pnt,r,theta):\n",
    "    d_r=0\n",
    "    for i in range (len(pnt)):\n",
    "        d_r+= -1*((-pnt[i,1] * m.sin(theta)) + pnt[i,0] * m.cos(theta) - r)\n",
    "    return d_r \n",
    "    "
   ]
  },
  {
   "cell_type": "code",
   "execution_count": 116,
   "metadata": {},
   "outputs": [],
   "source": [
    "def lost(pnt,theta,r):\n",
    "        x=0\n",
    "        for i in range(len(pnt)):\n",
    "            x+= ((pnt[i,1] * m.cos(theta) + pnt[i,0] * m.sin(theta) - r ) **2) * 0.5\n",
    "        return x    "
   ]
  },
  {
   "cell_type": "code",
   "execution_count": 117,
   "metadata": {},
   "outputs": [],
   "source": [
    "theta_0=rn.uniform(-m.pi/2,m.pi/2)\n",
    "r=0\n",
    "learning_rate=0.0001\n",
    "#print(r_0,theta_0)\n",
    "iterations=10000\n",
    "loss_thresh=0\n",
    "for i in range(iterations):\n",
    "    \n",
    "    loss_fn=lost(points,theta,r)\n",
    "    if(loss_fn>loss_thresh):\n",
    "        \n",
    "        theta_1=des_theta(points,theta_0,r)\n",
    "\n",
    "        r_1= des_r(points,r,theta_0)\n",
    "\n",
    "        theta_0 = theta_0 - (learning_rate * theta_1 )\n",
    "        r= r - (learning_rate * r_1 )\n",
    "    \n",
    "    \n",
    "    \n",
    "    "
   ]
  },
  {
   "cell_type": "code",
   "execution_count": 118,
   "metadata": {},
   "outputs": [
    {
     "name": "stdout",
     "output_type": "stream",
     "text": [
      "-286.65092151728624 214810503.39912608\n"
     ]
    }
   ],
   "source": [
    "print(r,theta_0)"
   ]
  },
  {
   "cell_type": "code",
   "execution_count": null,
   "metadata": {},
   "outputs": [],
   "source": []
  },
  {
   "cell_type": "code",
   "execution_count": null,
   "metadata": {},
   "outputs": [],
   "source": []
  }
 ],
 "metadata": {
  "kernelspec": {
   "display_name": "Python 3",
   "language": "python",
   "name": "python3"
  },
  "language_info": {
   "codemirror_mode": {
    "name": "ipython",
    "version": 3
   },
   "file_extension": ".py",
   "mimetype": "text/x-python",
   "name": "python",
   "nbconvert_exporter": "python",
   "pygments_lexer": "ipython3",
   "version": "3.6.5"
  }
 },
 "nbformat": 4,
 "nbformat_minor": 2
}
