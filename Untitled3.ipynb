{
 "cells": [
  {
   "cell_type": "code",
   "execution_count": 1,
   "metadata": {},
   "outputs": [],
   "source": [
    "import json\n",
    "import math as m"
   ]
  },
  {
   "cell_type": "code",
   "execution_count": 2,
   "metadata": {},
   "outputs": [],
   "source": [
    "with open('test2.txt') as json_file:  \n",
    "    data = json.load(json_file)"
   ]
  },
  {
   "cell_type": "code",
   "execution_count": 3,
   "metadata": {},
   "outputs": [],
   "source": [
    "data=data[0]['p']\n",
    "#print(len(data))\n",
    "#print (data)"
   ]
  },
  {
   "cell_type": "code",
   "execution_count": 4,
   "metadata": {},
   "outputs": [
    {
     "name": "stdout",
     "output_type": "stream",
     "text": [
      "0\n"
     ]
    }
   ],
   "source": [
    "div=10    \n",
    "rem=len(data)%div\n",
    "print(rem)\n",
    "n=len(data)-rem\n",
    "lab=0\n",
    "f_data=[]\n",
    "flag=0"
   ]
  },
  {
   "cell_type": "code",
   "execution_count": 5,
   "metadata": {},
   "outputs": [],
   "source": [
    "def s(l,n):\n",
    "    x=0\n",
    "    xy=0\n",
    "    y=0\n",
    "    x2=0\n",
    "    for i in range(n):\n",
    "            xy+=l[i][0] * l[i][1]\n",
    "            x+=l[i][1]\n",
    "            y+=l[i][0]\n",
    "            x2+=l[i][1] ** 2\n",
    "    return x,y,xy,x2"
   ]
  },
  {
   "cell_type": "code",
   "execution_count": 6,
   "metadata": {},
   "outputs": [],
   "source": [
    "def linearity(l,n):\n",
    "    dis=0\n",
    "    for i in range(n-1):\n",
    "        dis+=m.sqrt((l[i][1]-l[i+1][1]) ** 2 + (l[i][0]-l[i+1][0]) ** 2)\n",
    "    lin=(m.sqrt((l[0][1]-l[n-1][1]) ** 2 + (l[0][0]-l[n-1][0]) ** 2 ))/dis\n",
    "    return lin"
   ]
  },
  {
   "cell_type": "code",
   "execution_count": 7,
   "metadata": {},
   "outputs": [],
   "source": [
    "def slope(l,n):\n",
    "    x,y,xy,x2=s(l,n)\n",
    "    m=(n * xy - (x * y))/(n*x2 - x ** 2)\n",
    "    return m"
   ]
  },
  {
   "cell_type": "code",
   "execution_count": 8,
   "metadata": {},
   "outputs": [],
   "source": [
    "def intercept(l,n):\n",
    "    x,y,xy,x2=s(l,n)\n",
    "    c=((x2 * y) - (x * xy)) / ((n*x2) - (x ** 2))\n",
    "    return c"
   ]
  },
  {
   "cell_type": "code",
   "execution_count": 9,
   "metadata": {},
   "outputs": [],
   "source": [
    "for i in range(0,n,15):\n",
    "    \n",
    "    if(flag==1):\n",
    "        \n",
    "        break\n",
    "    l=[]\n",
    "    for j in range(i,i+div):\n",
    "        \n",
    "        l.append(data[j])\n",
    "        if(i+div == n):\n",
    "            \n",
    "            flag=1\n",
    "    li=[]    \n",
    "    li.append(lab)    \n",
    "    li.append(linearity(l,div))\n",
    "    li.append(slope(l,div))\n",
    "    li.append(intercept(l,div))\n",
    "    lab+=1\n",
    "    f_data.append(li)\n",
    "    "
   ]
  },
  {
   "cell_type": "code",
   "execution_count": 10,
   "metadata": {},
   "outputs": [
    {
     "name": "stdout",
     "output_type": "stream",
     "text": [
      "[70.85118586253435, -82.95060778791937, 13.08447828619391, 68.94367401937802, -26.49431379387596, 30.124488755199827, 56.04764997732008]\n"
     ]
    }
   ],
   "source": [
    "l=[]            \n",
    "for i in range(n,len(data),1):\n",
    "    l.append(data[i])\n",
    "for i in range(0,div-rem):\n",
    "    l.append(data[i])\n",
    "if(div-rem!=div):        \n",
    "    li=[]\n",
    "    #print('length=' + str(len(l)))\n",
    "    li.append(lab)\n",
    "    li.append(linearity(l,div))\n",
    "    li.append(slope(l,div))\n",
    "    li.append(intercept(l,div))\n",
    "    f_data.append(li)\n",
    "\n",
    "theta = [m.atan(slope) / m.pi * 180 for _, _, slope, __ in f_data]\n",
    "print (theta)"
   ]
  },
  {
   "cell_type": "code",
   "execution_count": 11,
   "metadata": {},
   "outputs": [
    {
     "name": "stdout",
     "output_type": "stream",
     "text": [
      "[[0, 0.9154832954000197, 2.879890234214018, -730.502145592291], [1, 0.9998684103831252, -8.086708477494708, 2516.029501299432], [2, 0.027677178207887527, 0.23242173230504734, 68.15361906807703], [3, 0.8789260466495439, 2.597453922303556, -621.9162650868615], [4, 0.7933684030103204, -0.49845770097636255, 248.6389456182903], [5, 0.9535326253115155, 0.5802508972724897, -5.0671849953492005], [6, 0.8890987498062318, 1.485223855075221, -261.9755784362404]]\n"
     ]
    }
   ],
   "source": [
    "with open('res.json','w') as json_file:\n",
    "    json.dump(f_data,json_file)  \n",
    "print(f_data)    "
   ]
  },
  {
   "cell_type": "code",
   "execution_count": null,
   "metadata": {},
   "outputs": [],
   "source": []
  },
  {
   "cell_type": "code",
   "execution_count": null,
   "metadata": {},
   "outputs": [],
   "source": []
  },
  {
   "cell_type": "code",
   "execution_count": null,
   "metadata": {},
   "outputs": [],
   "source": []
  },
  {
   "cell_type": "code",
   "execution_count": null,
   "metadata": {},
   "outputs": [],
   "source": []
  }
 ],
 "metadata": {
  "kernelspec": {
   "display_name": "Python 3",
   "language": "python",
   "name": "python3"
  },
  "language_info": {
   "codemirror_mode": {
    "name": "ipython",
    "version": 3
   },
   "file_extension": ".py",
   "mimetype": "text/x-python",
   "name": "python",
   "nbconvert_exporter": "python",
   "pygments_lexer": "ipython3",
   "version": "3.6.5"
  }
 },
 "nbformat": 4,
 "nbformat_minor": 2
}
